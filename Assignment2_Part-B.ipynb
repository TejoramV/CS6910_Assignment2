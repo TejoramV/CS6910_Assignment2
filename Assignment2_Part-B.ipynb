{
  "nbformat": 4,
  "nbformat_minor": 0,
  "metadata": {
    "colab": {
      "name": "Untitled11.ipynb",
      "provenance": [],
      "collapsed_sections": [],
      "authorship_tag": "ABX9TyOjDp0D+QYcNLyBT/E1njIE",
      "include_colab_link": true
    },
    "kernelspec": {
      "name": "python3",
      "display_name": "Python 3"
    },
    "language_info": {
      "name": "python"
    }
  },
  "cells": [
    {
      "cell_type": "markdown",
      "metadata": {
        "id": "view-in-github",
        "colab_type": "text"
      },
      "source": [
        "<a href=\"https://colab.research.google.com/github/TejoramV/CS6910_Assignment2/blob/main/Assignment2_Part-B.ipynb\" target=\"_parent\"><img src=\"https://colab.research.google.com/assets/colab-badge.svg\" alt=\"Open In Colab\"/></a>"
      ]
    },
    {
      "cell_type": "code",
      "execution_count": 1,
      "metadata": {
        "id": "woRipDv8p3hi",
        "colab": {
          "base_uri": "https://localhost:8080/"
        },
        "outputId": "73516e1e-b30a-40c0-9bd5-58558806bfc9"
      },
      "outputs": [
        {
          "output_type": "stream",
          "name": "stdout",
          "text": [
            "Collecting wandb\n",
            "  Downloading wandb-0.12.14-py2.py3-none-any.whl (1.8 MB)\n",
            "\u001b[K     |████████████████████████████████| 1.8 MB 5.8 MB/s \n",
            "\u001b[?25hCollecting GitPython>=1.0.0\n",
            "  Downloading GitPython-3.1.27-py3-none-any.whl (181 kB)\n",
            "\u001b[K     |████████████████████████████████| 181 kB 17.9 MB/s \n",
            "\u001b[?25hRequirement already satisfied: requests<3,>=2.0.0 in /usr/local/lib/python3.7/dist-packages (from wandb) (2.23.0)\n",
            "Collecting sentry-sdk>=1.0.0\n",
            "  Downloading sentry_sdk-1.5.8-py2.py3-none-any.whl (144 kB)\n",
            "\u001b[K     |████████████████████████████████| 144 kB 37.9 MB/s \n",
            "\u001b[?25hRequirement already satisfied: Click!=8.0.0,>=7.0 in /usr/local/lib/python3.7/dist-packages (from wandb) (7.1.2)\n",
            "Collecting pathtools\n",
            "  Downloading pathtools-0.1.2.tar.gz (11 kB)\n",
            "Collecting setproctitle\n",
            "  Downloading setproctitle-1.2.2-cp37-cp37m-manylinux1_x86_64.whl (36 kB)\n",
            "Requirement already satisfied: protobuf>=3.12.0 in /usr/local/lib/python3.7/dist-packages (from wandb) (3.17.3)\n",
            "Requirement already satisfied: python-dateutil>=2.6.1 in /usr/local/lib/python3.7/dist-packages (from wandb) (2.8.2)\n",
            "Requirement already satisfied: six>=1.13.0 in /usr/local/lib/python3.7/dist-packages (from wandb) (1.15.0)\n",
            "Requirement already satisfied: PyYAML in /usr/local/lib/python3.7/dist-packages (from wandb) (3.13)\n",
            "Requirement already satisfied: promise<3,>=2.0 in /usr/local/lib/python3.7/dist-packages (from wandb) (2.3)\n",
            "Requirement already satisfied: psutil>=5.0.0 in /usr/local/lib/python3.7/dist-packages (from wandb) (5.4.8)\n",
            "Collecting docker-pycreds>=0.4.0\n",
            "  Downloading docker_pycreds-0.4.0-py2.py3-none-any.whl (9.0 kB)\n",
            "Collecting shortuuid>=0.5.0\n",
            "  Downloading shortuuid-1.0.8-py3-none-any.whl (9.5 kB)\n",
            "Collecting gitdb<5,>=4.0.1\n",
            "  Downloading gitdb-4.0.9-py3-none-any.whl (63 kB)\n",
            "\u001b[K     |████████████████████████████████| 63 kB 663 kB/s \n",
            "\u001b[?25hRequirement already satisfied: typing-extensions>=3.7.4.3 in /usr/local/lib/python3.7/dist-packages (from GitPython>=1.0.0->wandb) (3.10.0.2)\n",
            "Collecting smmap<6,>=3.0.1\n",
            "  Downloading smmap-5.0.0-py3-none-any.whl (24 kB)\n",
            "Requirement already satisfied: idna<3,>=2.5 in /usr/local/lib/python3.7/dist-packages (from requests<3,>=2.0.0->wandb) (2.10)\n",
            "Requirement already satisfied: certifi>=2017.4.17 in /usr/local/lib/python3.7/dist-packages (from requests<3,>=2.0.0->wandb) (2021.10.8)\n",
            "Requirement already satisfied: urllib3!=1.25.0,!=1.25.1,<1.26,>=1.21.1 in /usr/local/lib/python3.7/dist-packages (from requests<3,>=2.0.0->wandb) (1.24.3)\n",
            "Requirement already satisfied: chardet<4,>=3.0.2 in /usr/local/lib/python3.7/dist-packages (from requests<3,>=2.0.0->wandb) (3.0.4)\n",
            "Building wheels for collected packages: pathtools\n",
            "  Building wheel for pathtools (setup.py) ... \u001b[?25l\u001b[?25hdone\n",
            "  Created wheel for pathtools: filename=pathtools-0.1.2-py3-none-any.whl size=8806 sha256=f03076fbc959db48959738d48c4c0389bf5879a183ee2038fd5f157df048b8ac\n",
            "  Stored in directory: /root/.cache/pip/wheels/3e/31/09/fa59cef12cdcfecc627b3d24273699f390e71828921b2cbba2\n",
            "Successfully built pathtools\n",
            "Installing collected packages: smmap, gitdb, shortuuid, setproctitle, sentry-sdk, pathtools, GitPython, docker-pycreds, wandb\n",
            "Successfully installed GitPython-3.1.27 docker-pycreds-0.4.0 gitdb-4.0.9 pathtools-0.1.2 sentry-sdk-1.5.8 setproctitle-1.2.2 shortuuid-1.0.8 smmap-5.0.0 wandb-0.12.14\n"
          ]
        }
      ],
      "source": [
        "import numpy as np\n",
        "import tensorflow as tf\n",
        "from tensorflow import keras\n",
        "from tensorflow.keras.preprocessing.image import ImageDataGenerator\n",
        "from tensorflow.keras.models import Model\n",
        "from tensorflow.keras import layers\n",
        "from tensorflow.keras.layers import Conv1D, MaxPool1D, BatchNormalization, Dense, Flatten     \n",
        "from tensorflow.keras.applications import InceptionV3, InceptionResNetV2, ResNet50, Xception\n",
        "from tensorflow.keras.optimizers import RMSprop\n",
        "from tensorflow.keras.losses import CategoricalCrossentropy\n",
        "\n",
        "!pip install wandb\n",
        "import wandb\n",
        "from wandb.keras import WandbCallback\n",
        "from PIL import Image"
      ]
    },
    {
      "cell_type": "code",
      "source": [
        "from google.colab import drive\n",
        "drive.mount('/content/drive')"
      ],
      "metadata": {
        "colab": {
          "base_uri": "https://localhost:8080/"
        },
        "id": "G1uWVt9xMBkH",
        "outputId": "d20eb0ab-39a9-4176-cb49-358d3e3695a5"
      },
      "execution_count": 9,
      "outputs": [
        {
          "output_type": "stream",
          "name": "stdout",
          "text": [
            "Drive already mounted at /content/drive; to attempt to forcibly remount, call drive.mount(\"/content/drive\", force_remount=True).\n"
          ]
        }
      ]
    },
    {
      "cell_type": "code",
      "source": [
        "def load_dataset(input_shape=(256,256)):\n",
        "\n",
        "    train_dir = \"/content/drive/MyDrive/inaturalist_12K/train\"\n",
        "    val_dir = \"/content/drive/MyDrive/inaturalist_12K/val\"\n",
        "    train = ImageDataGenerator(rescale=1./255, rotation_range=20, zoom_range=0.2, shear_range=0.2, horizontal_flip=True)\n",
        "    val = ImageDataGenerator(rescale=1./255)\n",
        "\n",
        "    train_data = train.flow_from_directory(train_dir, target_size=input_shape, batch_size=256, shuffle=True)\n",
        "    val_data = val.flow_from_directory(val_dir, target_size=input_shape, batch_size=256)    \n",
        "    \n",
        "    return train_data, val_data;"
      ],
      "metadata": {
        "id": "lXr_qhAjMEti"
      },
      "execution_count": 10,
      "outputs": []
    },
    {
      "cell_type": "code",
      "source": [
        "class buildModel(Model):    \n",
        "    \n",
        "    def __init__(self, base_model, image_size=(256, 256)):\n",
        "\n",
        "        super(buildModel, self).__init__()\n",
        "\n",
        "        self.base_model = self.pre_model(base_model, image_size)\n",
        "        self.base_model.trainable=False\n",
        "\n",
        "        self.conv1 = Conv1D(3, 12, 6, activation=\"relu\")\n",
        "        self.pool1 = MaxPool1D(3,3)\n",
        "        self.b1 = BatchNormalization()\n",
        "        self.conv2 = Conv1D(3, 6, 3, activation=\"relu\")\n",
        "        self.pool2 = MaxPool1D(3,3)\n",
        "        self.b2 = BatchNormalization()\n",
        "        self.output_layer = Dense(10, activation=None)\n",
        "        \n",
        "    @staticmethod\n",
        "    def pre_model(name, image_size):\n",
        "        \n",
        "        image_size = list(image_size)\n",
        "        image_size.append(3)\n",
        "        \n",
        "        input_shape = tuple(image_size) \n",
        "\n",
        "        if name==\"InceptionV3\":\n",
        "            return InceptionV3(include_top=False, input_shape=input_shape, weights='imagenet')\n",
        "        elif name==\"InceptionResNetV2\":\n",
        "            return InceptionResNetV2(include_top=False, input_shape=input_shape, weights='imagenet')\n",
        "        elif name==\"ResNet50\":\n",
        "            return ResNet50(include_top=False, input_shape=input_shape, weights='imagenet')\n",
        "        elif name==\"Xception\":\n",
        "            return Xception(include_top=False, input_shape=input_shape, weights='imagenet')\n",
        "\n",
        "    def call(self, x):\n",
        "\n",
        "        x = Flatten()(self.base_model(x))\n",
        "        \n",
        "        x = tf.expand_dims(x, -1)\n",
        "        x = self.b1(self.pool1(self.conv1(x)))\n",
        "        x = self.b2(self.pool2(self.conv2(x)))\n",
        "        x = Flatten()(x)\n",
        "\n",
        "        return self.output_layer(x)"
      ],
      "metadata": {
        "id": "Urq365WRqi9N"
      },
      "execution_count": 15,
      "outputs": []
    },
    {
      "cell_type": "code",
      "source": [
        "def train(image_size=(256, 256), epoch1=30, epoch2=10):\n",
        "    lr = 0.0001\n",
        "    config_defaults = {\"base_model\": \"ResNet50\"}\n",
        "\n",
        "    wandb.init(config=config_defaults, project=\"CS6910_Assignment2-Part-B\", magic=True)\n",
        "    train_data, val_data = load_dataset(image_size)\n",
        "    model = buildModel(wandb.config.base_model, image_size=image_size)\n",
        "    model.compile(optimizer=RMSprop(learning_rate=lr), loss=CategoricalCrossentropy(from_logits=True), metrics=['accuracy'])\n",
        "    model.fit(train_data, validation_data=val_data, epochs=epoch1, callbacks=[WandbCallback()])\n",
        "    \n",
        "    pretrained_params = {\"InceptionV3\": 55, \"InceptionResNetV2\": 55, \"ResNet50\": 50, \"Xception\": 50}\n",
        "    model.base_model.trainable = True\n",
        "    freezing_point = len(model.base_model.layers) - pretrained_params[wandb.config.base_model]\n",
        "\n",
        "    for layer in model.base_model.layers[:freezing_point]:\n",
        "        layer.trainable =  False\n",
        "    model.compile(optimizer=RMSprop(learning_rate=lr/10), loss=CategoricalCrossentropy(from_logits=True), metrics=['accuracy'])\n",
        "    model.fit(train_data, validation_data=val_data, epochs=epoch2, callbacks=[WandbCallback()])\n",
        "    _, Val_accuracy = model.evaluate(val_data)\n",
        "    wandb.log({\"Val_Accuracy\":Val_accuracy})"
      ],
      "metadata": {
        "id": "0D3Wr8HYqq_M"
      },
      "execution_count": 16,
      "outputs": []
    },
    {
      "cell_type": "code",
      "source": [
        "wandb.login()"
      ],
      "metadata": {
        "id": "Dc92ZSbCqtdl",
        "colab": {
          "base_uri": "https://localhost:8080/",
          "height": 70
        },
        "outputId": "30d8fa23-68e9-4e64-e95e-dd04aaeb5e0f"
      },
      "execution_count": 6,
      "outputs": [
        {
          "output_type": "display_data",
          "data": {
            "text/plain": [
              "<IPython.core.display.Javascript object>"
            ],
            "application/javascript": [
              "\n",
              "        window._wandbApiKey = new Promise((resolve, reject) => {\n",
              "            function loadScript(url) {\n",
              "            return new Promise(function(resolve, reject) {\n",
              "                let newScript = document.createElement(\"script\");\n",
              "                newScript.onerror = reject;\n",
              "                newScript.onload = resolve;\n",
              "                document.body.appendChild(newScript);\n",
              "                newScript.src = url;\n",
              "            });\n",
              "            }\n",
              "            loadScript(\"https://cdn.jsdelivr.net/npm/postmate/build/postmate.min.js\").then(() => {\n",
              "            const iframe = document.createElement('iframe')\n",
              "            iframe.style.cssText = \"width:0;height:0;border:none\"\n",
              "            document.body.appendChild(iframe)\n",
              "            const handshake = new Postmate({\n",
              "                container: iframe,\n",
              "                url: 'https://wandb.ai/authorize'\n",
              "            });\n",
              "            const timeout = setTimeout(() => reject(\"Couldn't auto authenticate\"), 5000)\n",
              "            handshake.then(function(child) {\n",
              "                child.on('authorize', data => {\n",
              "                    clearTimeout(timeout)\n",
              "                    resolve(data)\n",
              "                });\n",
              "            });\n",
              "            })\n",
              "        });\n",
              "    "
            ]
          },
          "metadata": {}
        },
        {
          "output_type": "stream",
          "name": "stderr",
          "text": [
            "\u001b[34m\u001b[1mwandb\u001b[0m: Appending key for api.wandb.ai to your netrc file: /root/.netrc\n"
          ]
        },
        {
          "output_type": "execute_result",
          "data": {
            "text/plain": [
              "True"
            ]
          },
          "metadata": {},
          "execution_count": 6
        }
      ]
    },
    {
      "cell_type": "code",
      "source": [
        "sweep_config = {\n",
        "  'metric': {'name': 'Val_Accuracy','goal':'maximize'},\n",
        "  \"method\": \"grid\",\n",
        "  \"parameters\": {\n",
        "        \"base_model\": {\"values\": [\"InceptionV3\", \"InceptionResNetV2\", \"ResNet50\", \"Xception\"]}\n",
        "    }\n",
        "}\n",
        "\n",
        "sweep_id = wandb.sweep(sweep_config)"
      ],
      "metadata": {
        "id": "7YZqu935Tp6O"
      },
      "execution_count": null,
      "outputs": []
    },
    {
      "cell_type": "code",
      "source": [
        "wandb.agent(sweep_id, function=train)"
      ],
      "metadata": {
        "id": "IErhvodnTu42"
      },
      "execution_count": null,
      "outputs": []
    }
  ]
}