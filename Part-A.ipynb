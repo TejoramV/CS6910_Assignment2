{
  "cells": [
    {
      "cell_type": "markdown",
      "metadata": {
        "id": "view-in-github",
        "colab_type": "text"
      },
      "source": [
        "<a href=\"https://colab.research.google.com/github/TejoramV/CS6910_Assignment2/blob/main/Part-A.ipynb\" target=\"_parent\"><img src=\"https://colab.research.google.com/assets/colab-badge.svg\" alt=\"Open In Colab\"/></a>"
      ]
    },
    {
      "cell_type": "code",
      "execution_count": 1,
      "metadata": {
        "colab": {
          "base_uri": "https://localhost:8080/"
        },
        "id": "aFcX17B1k8KC",
        "outputId": "6d0db3d4-fb55-4e27-a0e6-b0fca9c54829"
      },
      "outputs": [
        {
          "output_type": "stream",
          "name": "stdout",
          "text": [
            "Collecting wandb\n",
            "  Downloading wandb-0.12.12-py2.py3-none-any.whl (1.8 MB)\n",
            "\u001b[K     |████████████████████████████████| 1.8 MB 4.7 MB/s \n",
            "\u001b[?25hRequirement already satisfied: promise<3,>=2.0 in /usr/local/lib/python3.7/dist-packages (from wandb) (2.3)\n",
            "Requirement already satisfied: protobuf>=3.12.0 in /usr/local/lib/python3.7/dist-packages (from wandb) (3.17.3)\n",
            "Collecting GitPython>=1.0.0\n",
            "  Downloading GitPython-3.1.27-py3-none-any.whl (181 kB)\n",
            "\u001b[K     |████████████████████████████████| 181 kB 34.0 MB/s \n",
            "\u001b[?25hRequirement already satisfied: requests<3,>=2.0.0 in /usr/local/lib/python3.7/dist-packages (from wandb) (2.23.0)\n",
            "Requirement already satisfied: six>=1.13.0 in /usr/local/lib/python3.7/dist-packages (from wandb) (1.15.0)\n",
            "Collecting docker-pycreds>=0.4.0\n",
            "  Downloading docker_pycreds-0.4.0-py2.py3-none-any.whl (9.0 kB)\n",
            "Requirement already satisfied: Click!=8.0.0,>=7.0 in /usr/local/lib/python3.7/dist-packages (from wandb) (7.1.2)\n",
            "Requirement already satisfied: python-dateutil>=2.6.1 in /usr/local/lib/python3.7/dist-packages (from wandb) (2.8.2)\n",
            "Collecting setproctitle\n",
            "  Downloading setproctitle-1.2.2-cp37-cp37m-manylinux1_x86_64.whl (36 kB)\n",
            "Collecting shortuuid>=0.5.0\n",
            "  Downloading shortuuid-1.0.8-py3-none-any.whl (9.5 kB)\n",
            "Collecting pathtools\n",
            "  Downloading pathtools-0.1.2.tar.gz (11 kB)\n",
            "Requirement already satisfied: PyYAML in /usr/local/lib/python3.7/dist-packages (from wandb) (3.13)\n",
            "Collecting sentry-sdk>=1.0.0\n",
            "  Downloading sentry_sdk-1.5.8-py2.py3-none-any.whl (144 kB)\n",
            "\u001b[K     |████████████████████████████████| 144 kB 45.8 MB/s \n",
            "\u001b[?25hRequirement already satisfied: psutil>=5.0.0 in /usr/local/lib/python3.7/dist-packages (from wandb) (5.4.8)\n",
            "Requirement already satisfied: typing-extensions>=3.7.4.3 in /usr/local/lib/python3.7/dist-packages (from GitPython>=1.0.0->wandb) (3.10.0.2)\n",
            "Collecting gitdb<5,>=4.0.1\n",
            "  Downloading gitdb-4.0.9-py3-none-any.whl (63 kB)\n",
            "\u001b[K     |████████████████████████████████| 63 kB 1.9 MB/s \n",
            "\u001b[?25hCollecting smmap<6,>=3.0.1\n",
            "  Downloading smmap-5.0.0-py3-none-any.whl (24 kB)\n",
            "Requirement already satisfied: urllib3!=1.25.0,!=1.25.1,<1.26,>=1.21.1 in /usr/local/lib/python3.7/dist-packages (from requests<3,>=2.0.0->wandb) (1.24.3)\n",
            "Requirement already satisfied: certifi>=2017.4.17 in /usr/local/lib/python3.7/dist-packages (from requests<3,>=2.0.0->wandb) (2021.10.8)\n",
            "Requirement already satisfied: idna<3,>=2.5 in /usr/local/lib/python3.7/dist-packages (from requests<3,>=2.0.0->wandb) (2.10)\n",
            "Requirement already satisfied: chardet<4,>=3.0.2 in /usr/local/lib/python3.7/dist-packages (from requests<3,>=2.0.0->wandb) (3.0.4)\n",
            "Building wheels for collected packages: pathtools\n",
            "  Building wheel for pathtools (setup.py) ... \u001b[?25l\u001b[?25hdone\n",
            "  Created wheel for pathtools: filename=pathtools-0.1.2-py3-none-any.whl size=8806 sha256=6d733907f2c0f3f65151fb557f3d7ddc9084fc121937acc132c9c7c72baac5d8\n",
            "  Stored in directory: /root/.cache/pip/wheels/3e/31/09/fa59cef12cdcfecc627b3d24273699f390e71828921b2cbba2\n",
            "Successfully built pathtools\n",
            "Installing collected packages: smmap, gitdb, shortuuid, setproctitle, sentry-sdk, pathtools, GitPython, docker-pycreds, wandb\n",
            "Successfully installed GitPython-3.1.27 docker-pycreds-0.4.0 gitdb-4.0.9 pathtools-0.1.2 sentry-sdk-1.5.8 setproctitle-1.2.2 shortuuid-1.0.8 smmap-5.0.0 wandb-0.12.12\n"
          ]
        }
      ],
      "source": [
        "import numpy as np\n",
        "import tensorflow as tf\n",
        "from tensorflow import keras\n",
        "from tensorflow.keras.preprocessing.image import ImageDataGenerator\n",
        "from tensorflow.keras.models import Sequential, Model\n",
        "from tensorflow.keras.layers import Conv2D, MaxPooling2D, Activation, Dropout, BatchNormalization, Dense, Flatten\n",
        "\n",
        "!pip install wandb\n",
        "import wandb\n",
        "from wandb.keras import WandbCallback\n",
        "from PIL import Image"
      ]
    },
    {
      "cell_type": "code",
      "execution_count": 2,
      "metadata": {
        "colab": {
          "base_uri": "https://localhost:8080/"
        },
        "id": "yPHbOHXlobzl",
        "outputId": "69d95cf5-5cf5-4575-b097-56c6bf9f3e76"
      },
      "outputs": [
        {
          "output_type": "stream",
          "name": "stdout",
          "text": [
            "Mounted at /content/drive\n"
          ]
        }
      ],
      "source": [
        "from google.colab import drive\n",
        "drive.mount('/content/drive')"
      ]
    },
    {
      "cell_type": "code",
      "execution_count": 3,
      "metadata": {
        "id": "Hq1rMi8tohsc"
      },
      "outputs": [],
      "source": [
        "def buildModel(filter_size_needed=11, filter_scale=\"half\", num_filters=32, filter_multiplier=1, activation_func=\"relu\", dropout=0.2, batch_norm=False, dense_size=64, num_classes=10, image_size=200):\n",
        "    model = Sequential()\n",
        "    if filter_scale==\"half\":\n",
        "      scale=-2\n",
        "    elif filter_scale==\"double\":\n",
        "      scale=2\n",
        "    else:\n",
        "      scale=0\n",
        "    \n",
        "    for i in range(5):\n",
        "        filter_dim = filter_size_needed + (scale)*i\n",
        "        filter_size = (filter_dim, filter_dim)\n",
        "        if i==0:\n",
        "            model.add(Conv2D(num_filters, filter_size, input_shape=(image_size, image_size, 3), data_format=\"channels_last\"))\n",
        "        else:\n",
        "            model.add(Conv2D(num_filters, filter_size))\n",
        "        if batch_norm:\n",
        "            model.add(BatchNormalization())\n",
        "        model.add(Activation(activation_func))\n",
        "        model.add(MaxPooling2D(pool_size=(2,2)))\n",
        "        num_filters = int(num_filters * filter_multiplier)\n",
        "    \n",
        "    model.add(Flatten())\n",
        "    model.add(Dense(dense_size))\n",
        "    model.add(Dropout(dropout))\n",
        "    model.add(Activation(activation_func))\n",
        "    model.add(Dense(num_classes))\n",
        "    model.add(Activation(\"softmax\"))\n",
        "\n",
        "    return model"
      ]
    },
    {
      "cell_type": "code",
      "execution_count": 4,
      "metadata": {
        "id": "SP9kzuBBq9xV"
      },
      "outputs": [],
      "source": [
        "def load_dataset(augment_data=False):\n",
        "    train_dir = \"/content/drive/MyDrive/inaturalist_12K/train\"\n",
        "    test_dir = \"/content/drive/MyDrive/inaturalist_12K/val\"\n",
        "\n",
        "    if augment_data:\n",
        "        train = ImageDataGenerator(rescale=1./255, rotation_range=20, zoom_range=0.2, shear_range=0.2, validation_split=0.1,horizontal_flip=True)\n",
        "        test = ImageDataGenerator(rescale=1./255)\n",
        "\n",
        "    else:\n",
        "        train = ImageDataGenerator(rescale=1./255, validation_split=0.1)\n",
        "        test = ImageDataGenerator(rescale=1./255)\n",
        "\n",
        "    train_data = train.flow_from_directory(train_dir, target_size=(200, 200), batch_size=256, subset=\"training\")\n",
        "    val_data = train.flow_from_directory(train_dir, target_size=(200, 200), batch_size=256, subset=\"validation\")\n",
        "    test_data = test.flow_from_directory(test_dir, target_size=(200, 200), batch_size=256)\n",
        "    \n",
        "    return train_data, val_data, test_data;"
      ]
    },
    {
      "cell_type": "code",
      "execution_count": 6,
      "metadata": {
        "id": "q5So5Zr2rHA8"
      },
      "outputs": [],
      "source": [
        "def train():\n",
        "\n",
        "    config_defaults = {\n",
        "        \"filter_size_needed\": 11,\n",
        "        \"filter_scale\": \"half\",\n",
        "        \"num_filters\": 32,\n",
        "        \"filter_multiplier\": 2,\n",
        "        \"activation_func\": \"relu\",\n",
        "        \"augment_data\": False,\n",
        "        \"dropout\": 0.3,\n",
        "        \"batch_norm\": False,\n",
        "        \"epochs\": 10,\n",
        "        \"dense_size\": 64,\n",
        "        \"lr\": 0.001\n",
        "    }\n",
        "\n",
        "    wandb.init(config=config_defaults, magic=True)\n",
        "    config = wandb.config\n",
        "    filter_size_needed=config.filter_size_needed\n",
        "    filter_scale=config.filter_scale    \n",
        "    num_filters=config.num_filters\n",
        "    filter_multiplier=config.filter_multiplier\n",
        "    activation_func=config.activation_func\n",
        "    augment_data=config.augment_data\n",
        "    dropout=config.dropout\n",
        "    batch_norm=config.batch_norm\n",
        "    epochs=config.epochs\n",
        "    dense_size=config.dense_size\n",
        "    lr=config.lr\n",
        "    wandb.run.name = \"fil.size_{}_fil.scale_{}_NO.fil_{}_fil.mul_{}_activ_{}_aug.data_{}_dropout_{}_batch.norm_{}_e_{}_dense_{}_lr_{}\".format(filter_size_needed, \\\n",
        "                                                                                                                                              filter_scale, \\\n",
        "                                                                                                                                              num_filters, \\\n",
        "                                                                                                                                              filter_multiplier, \\\n",
        "                                                                                                                                              activation_func, \\\n",
        "                                                                                                                                              augment_data, \\\n",
        "                                                                                                                                              dropout, \\\n",
        "                                                                                                                                              batch_norm, \\\n",
        "                                                                                                                                              epochs, \\\n",
        "                                                                                                                                              dense_size, \\\n",
        "                                                                                                                                              lr)\n",
        "    train_data, val_data, test_data = load_dataset(augment_data=augment_data)\n",
        "    model = buildModel(filter_size_needed=filter_size_needed, filter_scale=filter_scale, num_filters=num_filters, filter_multiplier=filter_multiplier,\n",
        "                      activation_func=activation_func, dropout=dropout, batch_norm=batch_norm, dense_size=dense_size)\n",
        "    model.compile(optimizer=keras.optimizers.Adam(config.lr), loss=\"categorical_crossentropy\", metrics=\"categorical_accuracy\")\n",
        "    model.fit(train_data, epochs=epochs, validation_data=val_data, callbacks=[WandbCallback()])"
      ]
    },
    {
      "cell_type": "code",
      "execution_count": 7,
      "metadata": {
        "id": "XNr7c-OjsJSH"
      },
      "outputs": [],
      "source": [
        "def test():\n",
        "\n",
        "    config_defaults = {\n",
        "        \"filter_size_needed\": 11,\n",
        "        \"filter_scale\": \"half\",\n",
        "        \"num_filters\": 32,\n",
        "        \"filter_multiplier\": 2,\n",
        "        \"activation_func\": \"relu\",\n",
        "        \"augment_data\": False,\n",
        "        \"dropout\": 0.3,\n",
        "        \"batch_norm\": False,\n",
        "        \"epochs\": 10,\n",
        "        \"dense_size\": 64,\n",
        "        \"lr\": 0.001\n",
        "    }\n",
        "\n",
        "    wandb.init(config=config_defaults, magic=True)\n",
        "    config = wandb.config\n",
        "    filter_size_needed=config.filter_size_needed\n",
        "    filter_scale=config.filter_scale    \n",
        "    num_filters=config.num_filters\n",
        "    filter_multiplier=config.filter_multiplier\n",
        "    activation_func=config.activation_func\n",
        "    augment_data=config.augment_data\n",
        "    dropout=config.dropout\n",
        "    batch_norm=config.batch_norm\n",
        "    epochs=config.epochs\n",
        "    dense_size=config.dense_size\n",
        "    lr=config.lr\n",
        "\n",
        "    wandb.run.name = \"fil.size_{}_fil.scale_{}_NO.fil_{}_fil.mul_{}_activ_{}_aug.data_{}_dropout_{}_batch.norm_{}_e_{}_dense_{}_lr_{}\".format(filter_size_needed, \\\n",
        "                                                                                                                                              filter_scale, \\\n",
        "                                                                                                                                              num_filters, \\\n",
        "                                                                                                                                              filter_multiplier, \\\n",
        "                                                                                                                                              activation_func, \\\n",
        "                                                                                                                                              augment_data, \\\n",
        "                                                                                                                                              dropout, \\\n",
        "                                                                                                                                              batch_norm, \\\n",
        "                                                                                                                                              epochs, \\\n",
        "                                                                                                                                              dense_size, \\\n",
        "                                                                                                                                              lr)\n",
        "\n",
        "    train_data, val_data, test_data = load_dataset(augment_data=augment_data)\n",
        "    model = buildModel(filter_size_needed=filter_size_needed, filter_scale=filter_scale, num_filters=num_filters, filter_multiplier=filter_multiplier,\n",
        "                      activation_func=activation_func, dropout=dropout, batch_norm=batch_norm, dense_size=dense_size)\n",
        "    model.compile(optimizer=keras.optimizers.Adam(config.lr), loss=\"categorical_crossentropy\", metrics=\"categorical_accuracy\")\n",
        "    model.fit(train_data, epochs=epochs, validation_data=val_data, callbacks=[WandbCallback()])\n",
        "\n",
        "    print(\"Evaluating Model:\")\n",
        "    model.evaluate(test_data, batch_size=256)"
      ]
    },
    {
      "cell_type": "code",
      "execution_count": null,
      "metadata": {
        "colab": {
          "base_uri": "https://localhost:8080/",
          "height": 147
        },
        "id": "N_MZ_QCbsOSG",
        "outputId": "732006f8-c12f-448a-b7b8-b650e43681c3"
      },
      "outputs": [
        {
          "output_type": "display_data",
          "data": {
            "text/plain": [
              "<IPython.core.display.Javascript object>"
            ],
            "application/javascript": [
              "\n",
              "        window._wandbApiKey = new Promise((resolve, reject) => {\n",
              "            function loadScript(url) {\n",
              "            return new Promise(function(resolve, reject) {\n",
              "                let newScript = document.createElement(\"script\");\n",
              "                newScript.onerror = reject;\n",
              "                newScript.onload = resolve;\n",
              "                document.body.appendChild(newScript);\n",
              "                newScript.src = url;\n",
              "            });\n",
              "            }\n",
              "            loadScript(\"https://cdn.jsdelivr.net/npm/postmate/build/postmate.min.js\").then(() => {\n",
              "            const iframe = document.createElement('iframe')\n",
              "            iframe.style.cssText = \"width:0;height:0;border:none\"\n",
              "            document.body.appendChild(iframe)\n",
              "            const handshake = new Postmate({\n",
              "                container: iframe,\n",
              "                url: 'https://wandb.ai/authorize'\n",
              "            });\n",
              "            const timeout = setTimeout(() => reject(\"Couldn't auto authenticate\"), 5000)\n",
              "            handshake.then(function(child) {\n",
              "                child.on('authorize', data => {\n",
              "                    clearTimeout(timeout)\n",
              "                    resolve(data)\n",
              "                });\n",
              "            });\n",
              "            })\n",
              "        });\n",
              "    "
            ]
          },
          "metadata": {}
        },
        {
          "output_type": "stream",
          "name": "stderr",
          "text": [
            "\u001b[34m\u001b[1mwandb\u001b[0m: Appending key for api.wandb.ai to your netrc file: /root/.netrc\n",
            "\u001b[34m\u001b[1mwandb\u001b[0m: \u001b[33mWARNING\u001b[0m Malformed sweep config detected! This may cause your sweep to behave in unexpected ways.\n",
            "\u001b[34m\u001b[1mwandb\u001b[0m: \u001b[33mWARNING\u001b[0m To avoid this, please fix the sweep config schema violations below:\n",
            "\u001b[34m\u001b[1mwandb\u001b[0m: \u001b[33mWARNING\u001b[0m   Violation 1. 'Val Accuracy' is not of type 'object'\n"
          ]
        },
        {
          "output_type": "stream",
          "name": "stdout",
          "text": [
            "Create sweep with ID: d581e45s\n",
            "Sweep URL: https://wandb.ai/tejoram/CS6910_Assignment2-roughtest/sweeps/d581e45s\n"
          ]
        }
      ],
      "source": [
        "sweep_config = {\n",
        "    'metric': {'name': 'val_Accuracy','goal':'maximize'},\n",
        "    \"method\": \"grid\",\n",
        "    \"project\": \"CS6910_Assignment2-Part-A\",\n",
        "    \"parameters\": {\n",
        "        \"filter_size_needed\": {\n",
        "            \"values\": [5,7]\n",
        "        },\n",
        "        \"filter_scale\": {\n",
        "            \"values\": [\"same\"]\n",
        "        },                \n",
        "        \"num_filters\": {\n",
        "            \"values\": [32,64]\n",
        "        },\n",
        "        \"filter_multiplier\": {\n",
        "            \"values\": [1,2]\n",
        "        },\n",
        "        \"activation_func\": {\n",
        "            \"values\": [\"relu\"]\n",
        "        },        \n",
        "        \"augment_data\": {\n",
        "            \"values\": [True]\n",
        "        },\n",
        "        \"dropout\": {\n",
        "            \"values\": [0.1,0.3]\n",
        "        },\n",
        "        \"batch_norm\": {\n",
        "            \"values\": [True]\n",
        "        },\n",
        "        \"epochs\": {\n",
        "            \"values\": [10]\n",
        "        },\n",
        "        \"dense_size\": {\n",
        "            \"values\": [64]\n",
        "        },\n",
        "        \"lr\": {\n",
        "            \"values\": [0.001,0.0001]\n",
        "        }\n",
        "    }\n",
        "}\n",
        "\n",
        "sweep_id = wandb.sweep(sweep_config, project=\"CS6910_Assignment2-Part-A\")"
      ]
    },
    {
      "cell_type": "code",
      "source": [
        "wandb.agent(sweep_id, function=train)"
      ],
      "metadata": {
        "id": "CB8d2xYVmb6S"
      },
      "execution_count": null,
      "outputs": []
    },
    {
      "cell_type": "code",
      "source": [
        "#Best params\n",
        "sweep_config = {\n",
        "    'metric': {'name': 'val_Accuracy','goal':'maximize'},\n",
        "    \"method\": \"grid\",\n",
        "    \"project\": \"CS6910_Assignment2-Part-A\",\n",
        "    \"parameters\": {\n",
        "        \"filter_size_needed\": {\n",
        "            \"values\": [11]\n",
        "        },\n",
        "        \"filter_scale\": {\n",
        "            \"values\": [\"same\"]\n",
        "        },                \n",
        "        \"num_filters\": {\n",
        "            \"values\": [32]\n",
        "        },\n",
        "        \"filter_multiplier\": {\n",
        "            \"values\": [2]\n",
        "        },\n",
        "        \"activation_func\": {\n",
        "            \"values\": [\"relu\"]\n",
        "        },        \n",
        "        \"augment_data\": {\n",
        "            \"values\": [True]\n",
        "        },\n",
        "        \"dropout\": {\n",
        "            \"values\": [0.3]\n",
        "        },\n",
        "        \"batch_norm\": {\n",
        "            \"values\": [True]\n",
        "        },\n",
        "        \"epochs\": {\n",
        "            \"values\": [10]\n",
        "        },\n",
        "        \"dense_size\": {\n",
        "            \"values\": [64]\n",
        "        },\n",
        "        \"lr\": {\n",
        "            \"values\": [0.01]\n",
        "        }\n",
        "    }\n",
        "}\n",
        "\n",
        "\n",
        "sweep_id = wandb.sweep(sweep_config, project=\"CS6910_Assignment2-Part-A\")"
      ],
      "metadata": {
        "id": "VzqfY9XHqEos"
      },
      "execution_count": null,
      "outputs": []
    },
    {
      "cell_type": "code",
      "source": [
        "wandb.agent(sweep_id, function=test)"
      ],
      "metadata": {
        "id": "rLxxl7Ld_Kqj"
      },
      "execution_count": null,
      "outputs": []
    }
  ],
  "metadata": {
    "colab": {
      "name": "Untitled9.ipynb",
      "provenance": [],
      "collapsed_sections": [],
      "authorship_tag": "ABX9TyOa5O6hFP9sbe2a/iSEkt/6",
      "include_colab_link": true
    },
    "kernelspec": {
      "display_name": "Python 3",
      "name": "python3"
    },
    "language_info": {
      "name": "python"
    },
    "accelerator": "GPU"
  },
  "nbformat": 4,
  "nbformat_minor": 0
}